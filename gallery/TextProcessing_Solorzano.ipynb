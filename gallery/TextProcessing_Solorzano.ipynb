{
 "cells": [
  {
   "cell_type": "markdown",
   "metadata": {},
   "source": [
    "# Text Processing"
   ]
  },
  {
   "cell_type": "markdown",
   "metadata": {
    "toc": "true"
   },
   "source": [
    "# Table of Contents\n",
    " <p><div class=\"lev1 toc-item\"><a href=\"#Text-Processing\" data-toc-modified-id=\"Text-Processing-1\"><span class=\"toc-item-num\">1&nbsp;&nbsp;</span>Text Processing</a></div><div class=\"lev2 toc-item\"><a href=\"#Introduction\" data-toc-modified-id=\"Introduction-11\"><span class=\"toc-item-num\">1.1&nbsp;&nbsp;</span>Introduction</a></div><div class=\"lev1 toc-item\"><a href=\"#Preparations\" data-toc-modified-id=\"Preparations-2\"><span class=\"toc-item-num\">2&nbsp;&nbsp;</span>Preparations</a></div><div class=\"lev2 toc-item\"><a href=\"#Get-fulltext-\" data-toc-modified-id=\"Get-fulltext--21\"><span class=\"toc-item-num\">2.1&nbsp;&nbsp;</span>Get fulltext </a></div><div class=\"lev2 toc-item\"><a href=\"#Segment-source-text\" data-toc-modified-id=\"Segment-source-text-22\"><span class=\"toc-item-num\">2.2&nbsp;&nbsp;</span>Segment source text</a></div><div class=\"lev2 toc-item\"><a href=\"#Read-segments-into-a-variable-\" data-toc-modified-id=\"Read-segments-into-a-variable--23\"><span class=\"toc-item-num\">2.3&nbsp;&nbsp;</span>Read segments into a variable </a></div><div class=\"lev2 toc-item\"><a href=\"#Tokenising-\" data-toc-modified-id=\"Tokenising--24\"><span class=\"toc-item-num\">2.4&nbsp;&nbsp;</span>Tokenising </a></div><div class=\"lev2 toc-item\"><a href=\"#Stemming-/-Lemmatising-\" data-toc-modified-id=\"Stemming-/-Lemmatising--25\"><span class=\"toc-item-num\">2.5&nbsp;&nbsp;</span>Stemming / Lemmatising </a></div><div class=\"lev2 toc-item\"><a href=\"#Eliminate-Stopwords-\" data-toc-modified-id=\"Eliminate-Stopwords--26\"><span class=\"toc-item-num\">2.6&nbsp;&nbsp;</span>Eliminate Stopwords </a></div><div class=\"lev1 toc-item\"><a href=\"#Characterise-passages:-TF/IDF\" data-toc-modified-id=\"Characterise-passages:-TF/IDF-3\"><span class=\"toc-item-num\">3&nbsp;&nbsp;</span>Characterise passages: TF/IDF</a></div><div class=\"lev2 toc-item\"><a href=\"#Build-vocabulary-\" data-toc-modified-id=\"Build-vocabulary--31\"><span class=\"toc-item-num\">3.1&nbsp;&nbsp;</span>Build vocabulary </a></div><div class=\"lev2 toc-item\"><a href=\"#Calculate-Terms'-Text-Frequencies-(TF)-\" data-toc-modified-id=\"Calculate-Terms'-Text-Frequencies-(TF)--32\"><span class=\"toc-item-num\">3.2&nbsp;&nbsp;</span>Calculate Terms' Text Frequencies (TF) </a></div><div class=\"lev2 toc-item\"><a href=\"#Normalise-TF-\" data-toc-modified-id=\"Normalise-TF--33\"><span class=\"toc-item-num\">3.3&nbsp;&nbsp;</span>Normalise TF </a></div><div class=\"lev2 toc-item\"><a href=\"#Inverse-Document-Frequencies-(IDF)-and-TF-IDF-\" data-toc-modified-id=\"Inverse-Document-Frequencies-(IDF)-and-TF-IDF--34\"><span class=\"toc-item-num\">3.4&nbsp;&nbsp;</span>Inverse Document Frequencies (IDF) and TF-IDF </a></div><div class=\"lev1 toc-item\"><a href=\"#Vector-Space-Model-of-the-text-\" data-toc-modified-id=\"Vector-Space-Model-of-the-text--4\"><span class=\"toc-item-num\">4&nbsp;&nbsp;</span>Vector Space Model of the text </a></div><div class=\"lev2 toc-item\"><a href=\"#Another-method-to-generate-the-dimensions:-n-grams-\" data-toc-modified-id=\"Another-method-to-generate-the-dimensions:-n-grams--41\"><span class=\"toc-item-num\">4.1&nbsp;&nbsp;</span>Another method to generate the dimensions: n-grams </a></div><div class=\"lev2 toc-item\"><a href=\"#Extending-the-dimensions-\" data-toc-modified-id=\"Extending-the-dimensions--42\"><span class=\"toc-item-num\">4.2&nbsp;&nbsp;</span>Extending the dimensions </a></div><div class=\"lev2 toc-item\"><a href=\"#Word-Clouds-\" data-toc-modified-id=\"Word-Clouds--43\"><span class=\"toc-item-num\">4.3&nbsp;&nbsp;</span>Word Clouds </a></div><div class=\"lev2 toc-item\"><a href=\"#Similarity-\" data-toc-modified-id=\"Similarity--44\"><span class=\"toc-item-num\">4.4&nbsp;&nbsp;</span>Similarity </a></div><div class=\"lev2 toc-item\"><a href=\"#Clustering-\" data-toc-modified-id=\"Clustering--45\"><span class=\"toc-item-num\">4.5&nbsp;&nbsp;</span>Clustering </a></div><div class=\"lev1 toc-item\"><a href=\"#Working-with-several-languages\" data-toc-modified-id=\"Working-with-several-languages-5\"><span class=\"toc-item-num\">5&nbsp;&nbsp;</span>Working with several languages</a></div><div class=\"lev2 toc-item\"><a href=\"#Translations?\" data-toc-modified-id=\"Translations?-51\"><span class=\"toc-item-num\">5.1&nbsp;&nbsp;</span>Translations?</a></div><div class=\"lev1 toc-item\"><a href=\"#Graph-based-NLP\" data-toc-modified-id=\"Graph-based-NLP-6\"><span class=\"toc-item-num\">6&nbsp;&nbsp;</span>Graph-based NLP</a></div><div class=\"lev1 toc-item\"><a href=\"#Topic-Modelling\" data-toc-modified-id=\"Topic-Modelling-7\"><span class=\"toc-item-num\">7&nbsp;&nbsp;</span>Topic Modelling</a></div><div class=\"lev1 toc-item\"><a href=\"#Manual-Annotation\" data-toc-modified-id=\"Manual-Annotation-8\"><span class=\"toc-item-num\">8&nbsp;&nbsp;</span>Manual Annotation</a></div><div class=\"lev1 toc-item\"><a href=\"#Further-information\" data-toc-modified-id=\"Further-information-9\"><span class=\"toc-item-num\">9&nbsp;&nbsp;</span>Further information</a></div>"
   ]
  },
  {
   "cell_type": "markdown",
   "metadata": {},
   "source": [
    "## Introduction"
   ]
  },
  {
   "cell_type": "markdown",
   "metadata": {},
   "source": [
    "This is an introduction to some algorithms used in text analysis. While I cannot define **what questions** a scholar can ask, I can and do describe here **what kind of information** about text some popular methods can deliver. From this, you need to draw on your own research interests and creativity..."
   ]
  },
  {
   "cell_type": "markdown",
   "metadata": {},
   "source": [
    "I will describe methods of finding words that are characteristic for a certain passage (\"tf/tdf\"), constructing fingerprints or \"wordclouds\" for passages that go beyond the most significant words (\"word vectors\").  Of course, an important resource in text analysis is the hermeneutic interpretation of the scholar herself, so I will present a method of adding manual annotations to the text, and finally I will also say something about possible approaches to working across languages.\n",
    "\n",
    "At the moment the following topics are still waiting to be discussed: grouping passages according to their similarity (\"clustering\"), and forming an idea about different contexts being treated in a passage (\"topic modelling\"). Some more prominent approaches in the areas that have been mentioned so far are \"collocation\" analyses and the \"word2vec\" tool; I would like add discussions of these at a later moment.\n",
    "\n",
    "\"Natural language processing\" in the strict sense, i.e. analyses that have an understanding of how a language works, with its grammar, different modes, times, cases and the like, are *not* going to be covered; this implies \"stylometric\" analyses. Nor are there any discussions of \"artificial intelligence\" approaches. Maybe these can be discussed at another occasion and on another page."
   ]
  },
  {
   "cell_type": "markdown",
   "metadata": {},
   "source": [
    "For many of the steps discussed on this page there are ready-made tools and libraries, often with easy interfaces. But first, it is important to understand what these tools are **actually doing** and how their results are affected by the **selection of parameters** (that one can or cannot modify).\n",
    "\n",
    "And second, most of these tools expect the **input to be in some particular format**, say, a series of plaintext files in their own directory, a list of word/number)-pairs, a table or a series of integer (or floating point) numbers, etc. So, by understanding the process, you should be better prepared to provide your text to the tools in the most productive way.\n",
    "\n",
    "Finally, it is important to be aware of what information is **lost** at which point in the process. If the research requires so, one can then either look for a different tool or approach to this step (e.g. using an additional dimension in the list of words to keep both original and regularized word forms, or to remember the position of the current token in the original text), or one can compensate for the data loss (e.g. offering a lemmatised search to find occurrences after the analysis returns only normalised word forms)..."
   ]
  },
  {
   "cell_type": "markdown",
   "metadata": {},
   "source": [
    "The programming language used in the following examples is called \"python\" and the tool used to get prose discussion and code samples together is called \"jupyter\". In jupyter, you have a \"notebook\" that you can populate with text or code and a program that pipes a nice rendering of the notebook to a web browser. In this notebook, in many places, the output that the code samples produce is printed right below the code itself. Sometimes this can be quite a lot of output and depending on your viewing environment you might have to scroll quite some way to get to the continuation of the discussion. You can save your notebook online (the current one is [here at github](https://github.com/awagner-mainz/notebooks/blob/master/gallery/TextProcessing_Solorzano.ipynb)) and there is an online service, nbviewer, able to render any notebook that it can access online. So chances are you are reading this present notebook at the web address [https://nbviewer.jupyter.org/github/awagner-mainz/notebooks/blob/master/gallery/TextProcessing_Solorzano.ipynb](https://nbviewer.jupyter.org/github/awagner-mainz/notebooks/blob/master/gallery/TextProcessing_Solorzano.ipynb)."
   ]
  },
  {
   "cell_type": "markdown",
   "metadata": {},
   "source": [
    "A final word about the elements of this notebook:\n",
    "\n",
    "<div class=\"alert alertbox alert-success\">At some points I am mentioning things I consider to be important decisions or take-away messages for scholarly readers. E.g. whether or not to insert certain artefacts into the very transcription of your text, what the methodological ramifications of a certain approach or parameter are, what the implications of an example solution are, or what a possible interpretation of a certain result might be. I am highlighting these things in a block like this one here or at least in <font color=\"green\">**green bold font**</font>.</div>"
   ]
  },
  {
   "cell_type": "markdown",
   "metadata": {},
   "source": [
    "# Preparations"
   ]
  },
  {
   "cell_type": "markdown",
   "metadata": {},
   "source": [
    "As indicated above, before doing maths, language processing tools normally expect their input to be in a certain format. First of all, you have to have an input in the first place: Therefore, a scholar wishing to experiment with such methods should avail herself of the text that should be studied, as a full transcription. This can be done by transcribing it herself, using transcriptions that are available from elsewhere, or even from OCR. (Although in the latter case, the results depend of course on the quality of the OCR output.) Second, many tools get tripped up when formatting or bibliographical metainformation is included in their input. And since the approaches presented here are not concerned with a digital edition or any other form of true representation of the source, *markup* (e.g. for bold font, heading or note elements) should be *suppressed*. (Other tools accept marked up text and strip the formatting internally.) So you should try to get a copy of the text(s) you are working with in **plaintext** format."
   ]
  },
  {
   "cell_type": "markdown",
   "metadata": {},
   "source": [
    "For another detail regarding these plain text files, we have to make a short excursus, because even with plain text, there are some important aspects to consider: As you surely know, computers understand number only and as you probably also know, the first standards to encode alphanumeric characters, like ASCII, in numbers were designed for teleprinters and the reduced character set of the english language. When more extraordinary characters, like *Umlauts* or *accents* were to be encoded, one had to rely on extra rules, of which - unfortunately - there have been quite a lot. These are called \"**encodings**\" and one of the more important set of such rules are the windows encodings (e.g. CP-1252), another one is called Latin-9/ISO 8859-15 (it differs from the older Latin-1 encoding among others by including the Euro sign). Maybe you have seen web pages with garbled *Umlauts* or other special characters, then that was probably because your browser interpreted the numbers according to an encoding different from the one that the webpage author used. Anyway, the point here is that there is another standard encompassing virtually all the special signs from all languages and for a few years now, it is also supported quite well by operating systems, programming languages and linguistic tools. This standard is called \"Unicode\" and the encoding you want to use is called **utf-8**. So when you export or import your texts, try to make sure that this is what is used. ([Here](https://unicode-table.com/) is a webpage with the complete unicode table - it is loaded incrementally, so make sure to scroll down in order to get an impression of what signs this standard covers. But on the other hand, it is so extensive that you don't want to scroll through all the table...)\n",
    "\n",
    "Especially when you are coming from a windows operating system, you might have to do some searching about how to export your text to utf-8 (at one point I could make a unicode plaintext export in wordpad, only to find out after some time of desperate debugging that it was utf-*16* that I had been given. Maybe you can still find the traces of my own conversion of such files to utf-8 below)."
   ]
  },
  {
   "cell_type": "markdown",
   "metadata": {},
   "source": [
    "<div class=\"alert alertbox alert-success\">Also, you should consider whether or not you can replace *abbreviations* with their expanded versions in your transcription. While at some points (e.g. when lemmatising), you can associate expansions to abbreviations, the whole processing is easier when words in the text are indeed words, and periods are rather sentence punctuation than abbreviation signs. Of course, this also depends on the effort you can spend on the text...</div>\n",
    "\n",
    "This section now describes how the plaintext can further be prepared for analyses: E.g. if you want to process the *distribution* of words in the text, the processing method has to have some notion of different places in the text -- normally you don't want to manage words according to their absolute position in the whole work (say, the 6.349th word and the 3.100th one), but according to their occurrence in a particular section (say, in the third chapter, without caring too much whether it is in the 13th or in the 643th position in this chapter). So, you partition the text into meaningful segments which you can then label, compare etc.\n",
    "\n",
    "Other preparatory work includes suppressing stopwords (like \"the\", \"is\", \"of\" in english) or making the tools manage different forms of the same word or different historical writings identically. Here is what falls under this category:"
   ]
  },
  {
   "cell_type": "markdown",
   "metadata": {},
   "source": [
    "  1. [Get fulltext](#GetFulltext)\n",
    "  2. [Segment source text](#SegmentSourceText) \n",
    "  3. [Read segments into Variable/List](#ReadSegmentsIntoVariable)\n",
    "  4. [Tokenising](#Tokenising)\n",
    "  5. [Stemming/Lemmatising](#StemmingLemmatising)\n",
    "  6. [Eliminate stopwords](#EliminateStopwords)"
   ]
  },
  {
   "cell_type": "markdown",
   "metadata": {},
   "source": [
    "## Get fulltext <a name=\"GetFulltext\"></a>"
   ]
  },
  {
   "cell_type": "markdown",
   "metadata": {},
   "source": [
    "For the examples given on this page, I am using a transcription of Juan de Solorzano's *De Indiarum Iure*, provided by Angela Ballone. Angela has inserted a special sequence of characters - \"€€€ - [&lt;Label for the section>]\" - at places where she felt that a new section or argument is beginning, so that we can segment the big source file into different sections each dealing with one particular argument. (Our first task.) But first, let's have a look at our big source file; it is in the folder \"SP_seminar\" and is called **1cap_b1_TA.txt**."
   ]
  },
  {
   "cell_type": "code",
   "execution_count": 34,
   "metadata": {
    "ExecuteTime": {
     "end_time": "2017-09-12T09:48:11.301693Z",
     "start_time": "2017-09-12T11:48:11.271526+02:00"
    }
   },
   "outputs": [
    {
     "data": {
      "text/plain": [
       "['€€€ - [title]\\n',\n",
       " '  Caput Primum – De statu et libertate Indorum in communi; et de origine et damnatione servitii personalis eorum, quod sub tributorum colore iniuste ab aliquibus usurpatur.\\n',\n",
       " '  \\n',\n",
       " '€€€ - [Indians are free]\\n',\n",
       " '  Quae prioribus (1) illis libris scripsimus, quos nuper circa iustam harum Indiarum Occidentalium inquisitionem, acquisitionem, et retentionem luce donavimus, ea, ut ibidem advertimus, praestolantur, quae ad earundem gubernationem spectant. In quibus proponendis et exponendis, ut recto ordine procedatur, ab Indorum personis, earumque statu, et conditione initium capessemus; (2) quarum in omnibus iuris quaestionibus priorem, potioremque; inspectionem esse debere, optime docuit Iuris_Civilis in liber_2_Digesta_De_Statu_Hominum_Lex_Si_quaeremus, liber_6_Digesta_De_Testamento_Lex_Quidam_referunt, liber_14_Decretus_De_Iure_codicilli_paragraphus_ultimo, Institutiones_de_Iure_Naturalis_Lex_2_paragraphus_post_originem, De_Origine_Iure.\\n',\n",
       " '  \\n',\n",
       " '€€€ - [Primum]\\n',\n",
       " '  Et plane (3) ipsos Indos Naturali, ac Civili Iure inspecto, et seriis, ac repetitis Regum nostrorum iussionibus et schedulis liberos esse, et ut liberos tractari debere, satis luculenter probatum reliquimus in Юliber_3 prioris voluminis, Юcapitus_7 per totum et optime supponit elegantissimus pater ЖIoseph_ACOSTA liber_2_De_Procuranda_Indorum_Salute_capitus_7_pagina_235 quem ibidem numerus_53 retulimus, et iterum graviter repetit liber_3_capitus_17 sic inquiens: Atque inprimis Indos non esse servitute mulctatos, sed liberos prorsus, et sui iuris, ex iis, quae in liber_2 disputata sunt, summimus. Etenim et publicae leges ita statuunt, et consuetudo diuturna, et ratio constans, ac certa, quod qui nulla iniuria lacessunt, non possint reddi belli iure captivi.\\n',\n",
       " '  \\n',\n",
       " '  Sed cum rerum usus, et (4) mixtae iam, ac communis eorundem Indorum, et Hispanorum Reipublicae utilitas, et neccessitas, aliqua munia, sive servitia induxisse, aut etiam extorsisse videatur, quibus illi addici, et distribui coeperunt, quae isthaec, et qualia sint, et quatenus iuxta iuris regulas subsistere possint? Hoc libro sigillatim percurrere, et distinctis capitibus trutinare conabimur.\\n']"
      ]
     },
     "execution_count": 34,
     "metadata": {},
     "output_type": "execute_result"
    }
   ],
   "source": [
    "# This is the path to our file\n",
    "bigsourcefile = 'SP_seminar/1cap_b1_TA.txt'\n",
    "# We use a variable 'input' for keeping its contents.\n",
    "input = open(bigsourcefile, encoding='utf-8').readlines()\n",
    "\n",
    "# Just for information, let's see the first 10 lines of the file.\n",
    "input[0:10]   # actually, since python starts counting with '0', we get 11 lines.\n",
    "             # and since there is no line wrapping in the source file,\n",
    "             # a line can be quite long.\n",
    "             # You can see the lines ending with a \"newline\" character \"\\n\" in the output."
   ]
  },
  {
   "cell_type": "markdown",
   "metadata": {},
   "source": [
    "## Segment source text<a name=\"SegmentSourceText\"></a>"
   ]
  },
  {
   "cell_type": "markdown",
   "metadata": {},
   "source": [
    "Next, as mentioned above, we want to associate information with only passages of the text, not the text as a whole. Therefore, the text has to be segmented. The one big single file is being split into meaningful smaller chunks. What exactly constitutes a meaningful chunk -- a chapter, an article, a paragraph etc. -- cannot be known independently of the text in question and of the research questions. Therefore, a typical approach is that the scholar either splits the text manually or inserts some symbols that otherwise do not appear in the text. This is what we have here. Then, processing tools can find these symbols and split the file accordingly. For keeping things neat and orderly, the resulting files are saved in a directory of their own..."
   ]
  },
  {
   "cell_type": "markdown",
   "metadata": {},
   "source": [
    "*(Note here and in the following that in most cases, when the program is counting, it does so beginning with zero. Which means that if we end up with 20 segments, they are going to be called segment_0.txt, segment_1,txt, ..., segment_19.txt. There is not going to be a segment bearing the number twenty, although we do have twenty segments. The first one has the number zero and the twentieth one has the number nineteen. Even for more experienced coders, this sometimes leads to mistakes, called \"off-by-one errors\".)*"
   ]
  },
  {
   "cell_type": "code",
   "execution_count": 35,
   "metadata": {
    "ExecuteTime": {
     "end_time": "2017-09-12T09:48:12.448443Z",
     "start_time": "2017-09-12T11:48:12.398236+02:00"
    }
   },
   "outputs": [
    {
     "name": "stdout",
     "output_type": "stream",
     "text": [
      "5 files written.\n"
     ]
    }
   ],
   "source": [
    "# folder for the several segment files:\n",
    "outputBase = 'SP_seminar/segment'\n",
    "\n",
    "# initialise some variables:\n",
    "at    = -1\n",
    "dest  = None                  # this later takes our destination files\n",
    "\n",
    "# Now, for every line, if it starts with our special string,\n",
    "#    do nothing with the line,\n",
    "#    but close the current and open the next destination file;\n",
    "# if it does not,\n",
    "#   append it to whatever is the current destination file\n",
    "#   (stripping leading and trailing whitespace).\n",
    "for line in input:\n",
    "    if line[0:3] == '€€€':\n",
    "        # if there is a file open, then close it\n",
    "        if dest:\n",
    "            dest.close()\n",
    "        at += 1\n",
    "        # open the next destination file for writing\n",
    "        # (It's filename is build from our outputBase variable,\n",
    "        #  the current position in the sequence of fragments,\n",
    "        #  and a \".txt\" ending)\n",
    "        dest = open(outputBase + '.' + str(at) + '.txt',\n",
    "                    encoding='utf-8',\n",
    "                    mode='w')\n",
    "    else:\n",
    "        # write the line (after it has been stripped of leading and closing whitespace)\n",
    "        dest.write(line.strip())\n",
    "\n",
    "dest.close()\n",
    "at += 1\n",
    "\n",
    "# How many segments/files do we then have?\n",
    "print(str(at) + ' files written.')"
   ]
  },
  {
   "cell_type": "markdown",
   "metadata": {},
   "source": [
    "## Read segments into a variable <a name=\"ReadSegmentsIntoVariable\"></a>"
   ]
  },
  {
   "cell_type": "markdown",
   "metadata": {},
   "source": [
    "From the segments just created, we rebuild our corpus, iterating through them and reading them into another variable (which now stores, technically speaking, not just one long string of characters, as the variable *input* in the first code snippet did, but a list of strings, one for each segment)."
   ]
  },
  {
   "cell_type": "code",
   "execution_count": 36,
   "metadata": {
    "ExecuteTime": {
     "end_time": "2017-09-12T09:48:13.164623Z",
     "start_time": "2017-09-12T11:48:13.145663+02:00"
    },
    "collapsed": true
   },
   "outputs": [],
   "source": [
    "path = 'SP_seminar'\n",
    "filename = 'segment.'\n",
    "suffix = '.txt'\n",
    "corpus = []           # This is our new variable. It will be populated below.\n",
    "\n",
    "for i in range(0, at):\n",
    "    with open(path + '/' + filename + str(i) + suffix, encoding='utf-8') as f:\n",
    "        corpus.append(f.read())    # Here, a new element is added to our corpus.\n",
    "                                       # Its content is read from the file 'f' opened above\n",
    "        f.close()"
   ]
  },
  {
   "cell_type": "markdown",
   "metadata": {},
   "source": [
    "Now we should have 20 strings in the variable *corpus* to play around with:"
   ]
  },
  {
   "cell_type": "code",
   "execution_count": 37,
   "metadata": {
    "ExecuteTime": {
     "end_time": "2017-09-12T09:48:13.521646Z",
     "start_time": "2017-09-12T11:48:13.512877+02:00"
    }
   },
   "outputs": [
    {
     "data": {
      "text/plain": [
       "5"
      ]
     },
     "execution_count": 37,
     "metadata": {},
     "output_type": "execute_result"
    }
   ],
   "source": [
    "len(corpus)"
   ]
  },
  {
   "cell_type": "markdown",
   "metadata": {},
   "source": [
    "For a quick impression, let's see the opening 500 characters of an arbitrary one of them; in this case, we take the first segment, i.e. the one at position '1' (remember that counting starts at 0):"
   ]
  },
  {
   "cell_type": "code",
   "execution_count": 38,
   "metadata": {
    "ExecuteTime": {
     "end_time": "2017-09-12T09:48:13.949058Z",
     "start_time": "2017-09-12T11:48:13.936996+02:00"
    }
   },
   "outputs": [
    {
     "data": {
      "text/plain": [
       "'Quae prioribus (1) illis libris scripsimus, quos nuper circa iustam harum Indiarum Occidentalium inquisitionem, acquisitionem, et retentionem luce donavimus, ea, ut ibidem advertimus, praestolantur, quae ad earundem gubernationem spectant. In quibus proponendis et exponendis, ut recto ordine procedatur, ab Indorum personis, earumque statu, et conditione initium capessemus; (2) quarum in omnibus iuris quaestionibus priorem, potioremque; inspectionem esse debere, optime docuit Iuris_Civilis in lib'"
      ]
     },
     "execution_count": 38,
     "metadata": {},
     "output_type": "execute_result"
    }
   ],
   "source": [
    "corpus[1][0:500]"
   ]
  },
  {
   "cell_type": "markdown",
   "metadata": {},
   "source": [
    "## Tokenising <a name=\"Tokenising\"></a>"
   ]
  },
  {
   "cell_type": "markdown",
   "metadata": {},
   "source": [
    "\"Tokenising\" means splitting the long lines of the input into single words. Since we are dealing with plain latin, we can use the default split method which relies on spaces to identify word boundaries. (In languages like Japanese or scripts like Arabic, this is more difficult.) **Note that we do not compensate for words that are hyphenated/split across lines here!** That is something that should be catered for in the transcription itself."
   ]
  },
  {
   "cell_type": "code",
   "execution_count": 39,
   "metadata": {
    "ExecuteTime": {
     "end_time": "2017-09-12T09:48:14.701903Z",
     "start_time": "2017-09-12T11:48:14.672851+02:00"
    }
   },
   "outputs": [
    {
     "name": "stdout",
     "output_type": "stream",
     "text": [
      "We now have 2987 wordforms or \"tokens\" in our corpus of 5 segments.\n"
     ]
    }
   ],
   "source": [
    "# We need a python library, because we want to use a \"regular expression\"\n",
    "import re\n",
    "\n",
    "tokenised = []     # A new variable again\n",
    "\n",
    "# Every segment, initially a long string of characters, is now split into a list of words,\n",
    "# based on non-word characters (whitespace, punctuation, parentheses and others - that's\n",
    "# what we need the regular expression library for).\n",
    "# Also, we make everything lower-case.\n",
    "for segment in corpus:\n",
    "    tokenised.append(list(filter(None, (word.lower() for word in re.split('\\W+', segment)))))\n",
    "\n",
    "print('We now have ' + str(sum(len(x) for x in tokenised)) + ' wordforms or \"tokens\" in our corpus of ' + str(len(tokenised)) + ' segments.')"
   ]
  },
  {
   "cell_type": "markdown",
   "metadata": {},
   "source": [
    "Now, instead of *corpus*, we can use *tokenised* for our subsequent routines: a variable which, at 5 positions, contains the list of words of the corresponding segment. In order to see the difference in structure to the corpus variable above, let's have a look at (the first 50 words of) the first segment again:"
   ]
  },
  {
   "cell_type": "code",
   "execution_count": 40,
   "metadata": {
    "ExecuteTime": {
     "end_time": "2017-09-12T09:48:15.105746Z",
     "start_time": "2017-09-12T11:48:15.094646+02:00"
    }
   },
   "outputs": [
    {
     "name": "stdout",
     "output_type": "stream",
     "text": [
      "['quae', 'prioribus', '1', 'illis', 'libris', 'scripsimus', 'quos', 'nuper', 'circa', 'iustam', 'harum', 'indiarum', 'occidentalium', 'inquisitionem', 'acquisitionem', 'et', 'retentionem', 'luce', 'donavimus', 'ea', 'ut', 'ibidem', 'advertimus', 'praestolantur', 'quae', 'ad', 'earundem', 'gubernationem', 'spectant', 'in', 'quibus', 'proponendis', 'et', 'exponendis', 'ut', 'recto', 'ordine', 'procedatur', 'ab', 'indorum', 'personis', 'earumque', 'statu', 'et', 'conditione', 'initium', 'capessemus', '2', 'quarum']\n"
     ]
    }
   ],
   "source": [
    "print(tokenised[1][0:49])"
   ]
  },
  {
   "cell_type": "markdown",
   "metadata": {},
   "source": [
    "Already, we can have a first go at finding the most frequent words for a segment. (For this we use a simple library of functions that we import by the name of 'collections'.):"
   ]
  },
  {
   "cell_type": "code",
   "execution_count": 41,
   "metadata": {
    "ExecuteTime": {
     "end_time": "2017-09-12T09:48:15.501886Z",
     "start_time": "2017-09-12T11:48:15.481384+02:00"
    }
   },
   "outputs": [
    {
     "name": "stdout",
     "output_type": "stream",
     "text": [
      "[('et', 61), ('in', 46), ('cum', 13), ('quae', 12), ('ut', 10), ('quod', 9), ('vel', 9), ('aliis', 8), ('non', 7), ('ad', 7)]\n"
     ]
    }
   ],
   "source": [
    "import collections\n",
    "counter = collections.Counter(tokenised[3])  # Again, consider the fourth segment\n",
    "print(counter.most_common(10))               # Making a counter 'object' of our segment,\n",
    "                                             # this now has a 'method' calles most_common,\n",
    "                                             # offering us the object's most common elements.\n",
    "                                             # More 'methods' can be found in the documentation:\n",
    "                                             # https://docs.python.org/3/library/collections.html#collections.Counter"
   ]
  },
  {
   "cell_type": "markdown",
   "metadata": {},
   "source": [
    "## Stemming / Lemmatising <a name=\"StemmingLemmatising\"></a>"
   ]
  },
  {
   "cell_type": "markdown",
   "metadata": {},
   "source": [
    "Next, since we prefer to count different word *forms* as one and the same \"*lemma*\", we have to do a step called \"lemmatisation\". In languages that are not strongly inflected, like English, one can get away with \"stemming\", i.e. just eliminating the ending of words: \"wish\", \"wished\", \"wishing\", \"wishes\" all can count as instances of \"wish\\*\". With Latin this is not so easy: we want to count occurrences of \"legum\", \"leges\", \"lex\" as one and the same word, but if we truncate after \"le\", we get too many hits that have nothing to do with lex at all. There are a couple of \"lemmatising\" tools available, although with classical languages (or even early modern ones), it's a bit more difficult. Anyway, we do our own, using a dictionary approach..."
   ]
  },
  {
   "cell_type": "markdown",
   "metadata": {},
   "source": [
    "First, we have to have a dictionary which associates all known word forms to their lemma. This can also help us with historical orthography. Suppose from some other context, we have a file \"[wordforms-lat-full.txt](SP_seminar/wordforms-lat-full.txt)\" at our disposal in the folder \"SP_seminar\". Its contents looks like this:"
   ]
  },
  {
   "cell_type": "code",
   "execution_count": 42,
   "metadata": {
    "ExecuteTime": {
     "end_time": "2017-09-12T09:48:17.990249Z",
     "start_time": "2017-09-12T11:48:17.970041+02:00"
    }
   },
   "outputs": [
    {
     "name": "stdout",
     "output_type": "stream",
     "text": [
      "aër > aër\n",
      "aëre > aër\n",
      "aërem > aër\n",
      "aëri > aër\n",
      "aëris > aër\n",
      "a > a\n",
      "ab\n"
     ]
    }
   ],
   "source": [
    "wordfile_path = 'SP_seminar/wordforms-lat-full.txt'\n",
    "wordfile = open(wordfile_path, encoding='utf-8')\n",
    "\n",
    "print(wordfile.read()[:64])     # in such from-to addresses, one can just skip the zero\n",
    "wordfile.close;"
   ]
  },
  {
   "cell_type": "markdown",
   "metadata": {},
   "source": [
    "So, we again build a dictionary of key-value pairs associating all the lemmata (\"values\") with their wordforms (\"keys\"). And afterwards, we can quickly look up the value under a given key:"
   ]
  },
  {
   "cell_type": "code",
   "execution_count": 43,
   "metadata": {
    "ExecuteTime": {
     "end_time": "2017-09-12T09:48:18.431868Z",
     "start_time": "2017-09-12T11:48:18.398703+02:00"
    }
   },
   "outputs": [
    {
     "name": "stdout",
     "output_type": "stream",
     "text": [
      "2131207 wordforms known to the system.\n"
     ]
    }
   ],
   "source": [
    "lemma    = {}    # we build a so-called dictionary for the lookups\n",
    "tempdict = []\n",
    "\n",
    "# open the wordfile (defined above) for reading\n",
    "wordfile = open(wordfile_path, encoding='utf-8')\n",
    "\n",
    "for line in wordfile.readlines():\n",
    "    tempdict.append(tuple(line.split('>'))) # we split each line by \">\" and append a tuple to a\n",
    "                                            # temporary list.\n",
    "\n",
    "lemma = {k.strip(): v.strip() for k, v in tempdict} # for every tuple in the list,\n",
    "                                                    # we strip whitespace and make a key-value\n",
    "                                                    # pair, appending it to our \"lemma\" dictionary\n",
    "wordfile.close\n",
    "print(str(len(lemma)) + ' wordforms known to the system.')"
   ]
  },
  {
   "cell_type": "markdown",
   "metadata": {},
   "source": [
    "Again, a quick test: Let's see with which \"lemma\"/basic word the particular wordform \"ciuicior\" is associated, or, in other words, what *value* our lemma variable returns when we query for the *key* \"fidem\" (Accusative for the Nominative \"fides\"):"
   ]
  },
  {
   "cell_type": "code",
   "execution_count": 44,
   "metadata": {
    "ExecuteTime": {
     "end_time": "2017-09-12T09:48:18.878222Z",
     "start_time": "2017-09-12T11:48:18.858115+02:00"
    }
   },
   "outputs": [
    {
     "data": {
      "text/plain": [
       "'fides'"
      ]
     },
     "execution_count": 44,
     "metadata": {},
     "output_type": "execute_result"
    }
   ],
   "source": [
    "lemma['fidem']"
   ]
  },
  {
   "cell_type": "markdown",
   "metadata": {},
   "source": [
    "Now we can use this dictionary to build a new list of words, where only lemmatised forms occur:"
   ]
  },
  {
   "cell_type": "code",
   "execution_count": 45,
   "metadata": {
    "ExecuteTime": {
     "end_time": "2017-09-12T09:48:19.417240Z",
     "start_time": "2017-09-12T11:48:19.404334+02:00"
    },
    "collapsed": true
   },
   "outputs": [],
   "source": [
    "# For each segment, and for each word in it, add the lemma to our new \"lemmatised\"\n",
    "# list, or, if we cannot find a lemma, add the actual word from from the tokenised list.\n",
    "lemmatised = [[lemma[word] if word in lemma else word for word in segment]\n",
    "              for segment in tokenised]"
   ]
  },
  {
   "cell_type": "markdown",
   "metadata": {},
   "source": [
    "Again, let's see the first 50 words from the first segment, and compare them with the \"tokenised\" variant above:"
   ]
  },
  {
   "cell_type": "code",
   "execution_count": 46,
   "metadata": {
    "ExecuteTime": {
     "end_time": "2017-09-12T09:48:19.865811Z",
     "start_time": "2017-09-12T11:48:19.853901+02:00"
    }
   },
   "outputs": [
    {
     "name": "stdout",
     "output_type": "stream",
     "text": [
      "['qui', 'prior', '1', 'ille', 'liber', 'scribo', 'qui', 'nuper', 'circa', 'iustus', 'hic', 'india', 'occidentalis', 'inquisitio', 'acquisitio', 'et', 'retentio', 'luceo', 'dono', 'ea', 'ut', 'ibidem', 'adverto', 'praestolor', 'qui', 'ad', 'idem', 'gubernatio', 'specto', 'in', 'qui', 'propono', 'et', 'expono', 'ut', 'recto', 'ordo', 'procedo', 'a', 'indorum', 'persona', 'earumque', 'sisto', 'et', 'condicio', 'initium', 'capesso', '2', 'qui']\n"
     ]
    }
   ],
   "source": [
    "print(lemmatised[1][:49])"
   ]
  },
  {
   "cell_type": "markdown",
   "metadata": {},
   "source": [
    "As you can see, the original text is lost now from the data that we are currently working with (unless we add another dimension to our lemmatised variable which can keep the original word form). But let us see if something in the 10 most frequent words has changed:"
   ]
  },
  {
   "cell_type": "code",
   "execution_count": 47,
   "metadata": {},
   "outputs": [
    {
     "name": "stdout",
     "output_type": "stream",
     "text": [
      "[('qui', 5), ('et', 3), ('in', 3), ('prior', 2), ('ut', 2), ('1', 1), ('ille', 1), ('liber', 1), ('scribo', 1), ('nuper', 1)]\n"
     ]
    }
   ],
   "source": [
    "counter = collections.Counter(lemmatised[1])  # Again, consider the fourth segment\n",
    "print(counter.most_common(10))               # Making a counter 'object' of our segment,\n",
    "                                             # this now has a 'method' calles most_common,\n",
    "                                             # offering us the object's most common elements.\n",
    "                                             # More 'methods' can be found in the documentation:\n",
    "                                             # https://docs.python.org/3/library/collections.html#collections.Counter"
   ]
  },
  {
   "cell_type": "markdown",
   "metadata": {},
   "source": [
    "## Eliminate Stopwords <a name=\"EliminateStopwords\"></a>"
   ]
  },
  {
   "cell_type": "markdown",
   "metadata": {},
   "source": [
    "Probably \"et\", \"in\", \"de\", \"qui\", \"ad\", \"sum/esse\", \"non/nolo\" and many of the most frequent words are not really very telling words. They are what one calls *stopwords*, and we have another [list of such words](SP_seminar/stopwords-lat.txt) that we would rather want to ignore:"
   ]
  },
  {
   "cell_type": "code",
   "execution_count": 48,
   "metadata": {
    "ExecuteTime": {
     "end_time": "2017-09-12T09:48:21.725760Z",
     "start_time": "2017-09-12T11:48:21.710968+02:00"
    }
   },
   "outputs": [
    {
     "name": "stdout",
     "output_type": "stream",
     "text": [
      "392 stopwords known to the system, e.g.: ['a', 'ab', 'ac', 'ad', 'adhic', 'adhuc', 'ae', 'ait', 'ali', 'alii', 'aliis', 'alio', 'aliqua', 'aliqui', 'aliquid', 'aliquis', 'aliquo', 'am', 'an', 'ante', 'apud', 'ar', 'at', 'atque', 'au', 'aut', 'autem', 'bus', 'c', 'ca', 'cap', 'ceptum', 'circa', 'co', 'con', 'cui', 'cum', 'cur', 'cùm', 'd', 'da', 'de', 'deinde', 'detur', 'di', 'diu', 'do', 'dum', 'e', 'ea', 'eadem', 'earumque', 'ec', 'eccle', 'ego', 'ei', 'eis', 'eius', 'el', 'em', 'en', 'enim', 'eo', 'eorundem', 'eos', 'er', 'erat', 'ergo', 'erit', 'es', 'esse', 'essent', 'esset', 'est', 'et']\n"
     ]
    }
   ],
   "source": [
    "stopwords_path = 'SP_seminar/stopwords-lat.txt'\n",
    "stopwords = open(stopwords_path, encoding='utf-8').read().splitlines()\n",
    "\n",
    "print(str(len(stopwords)) + ' stopwords known to the system, e.g.: ' + str(stopwords[95:170]))"
   ]
  },
  {
   "cell_type": "markdown",
   "metadata": {},
   "source": [
    "Now let's try and suppress the stopwords in the segments (and see what the \"reduced\" first segment gives)..."
   ]
  },
  {
   "cell_type": "code",
   "execution_count": 49,
   "metadata": {
    "ExecuteTime": {
     "end_time": "2017-09-12T09:48:22.285616Z",
     "start_time": "2017-09-12T11:48:22.186486+02:00"
    }
   },
   "outputs": [
    {
     "name": "stdout",
     "output_type": "stream",
     "text": [
      "['prior', 'liber', 'scribo', 'nuper', 'iustus', 'india', 'occidentalis', 'inquisitio', 'acquisitio', 'retentio', 'luceo', 'dono', 'adverto', 'praestolor', 'gubernatio', 'specto', 'propono', 'expono', 'recto', 'ordo', 'procedo', 'indorum', 'persona', 'sisto', 'condicio', 'initium', 'capesso', 'ius', 'quaestio', 'prior', 'potioremque', 'inspectio', 'debeo', 'bonus', 'doceo', 'iuris_civilis', 'liber_2_digesta_de_statu_hominum_lex_si_quaeremus', 'liber_6_digesta_de_testamento_lex_quidam_referunt', 'liber_14_decretus_de_iure_codicilli_paragraphus_ultimo', 'institutiones_de_iure_naturalis_lex_2_paragraphus_post_originem', 'de_origine_iure']\n"
     ]
    }
   ],
   "source": [
    "# For each segment, and for each word in it,\n",
    "# add it to a new list called \"stopped\",\n",
    "# but only if it is not listed in the list of stopwords.\n",
    "stopped = [[item for item in lemmatised_segment if item not in stopwords and item[1] != \"Њ\"] \\\n",
    "           for lemmatised_segment in lemmatised]\n",
    "print(stopped[1][:49])"
   ]
  },
  {
   "cell_type": "markdown",
   "metadata": {},
   "source": [
    "With this, we can already create a kind of first \"profile\" of, in this case, our four segments (which account for the whole chapter 1, book 1, T.A. - minus the title segment) listing the most frequent words in each of them:"
   ]
  },
  {
   "cell_type": "code",
   "execution_count": 50,
   "metadata": {},
   "outputs": [
    {
     "name": "stdout",
     "output_type": "stream",
     "text": [
      "[('prior', 2), ('liber', 1), ('scribo', 1), ('nuper', 1), ('iustus', 1), ('india', 1), ('occidentalis', 1), ('inquisitio', 1), ('acquisitio', 1), ('retentio', 1), ('luceo', 1), ('dono', 1), ('adverto', 1), ('praestolor', 1), ('gubernatio', 1), ('specto', 1), ('propono', 1), ('expono', 1), ('recto', 1), ('ordo', 1), ('procedo', 1), ('indorum', 1), ('persona', 1), ('sisto', 1), ('condicio', 1), ('initium', 1), ('capesso', 1), ('ius', 1), ('quaestio', 1), ('potioremque', 1)]\n"
     ]
    }
   ],
   "source": [
    "counter = collections.Counter(stopped[1])  # Again, consider the fourth segment\n",
    "print(counter.most_common(30))               # Making a counter 'object' of our segment,\n",
    "                                             # this now has a 'method' calles most_common,\n",
    "                                             # offering us the object's most common elements.\n",
    "                                             # More 'methods' can be found in the documentation:\n",
    "                                             # https://docs.python.org/3/library/collections.html#collections.Counter"
   ]
  },
  {
   "cell_type": "code",
   "execution_count": 51,
   "metadata": {},
   "outputs": [
    {
     "name": "stdout",
     "output_type": "stream",
     "text": [
      "[('servitium', 12), ('alea', 10), ('personalis', 9), ('liber', 8), ('indo', 8), ('tribuo', 8), ('anno', 7), ('indos', 5), ('schedula', 5), ('certus', 5)]\n"
     ]
    }
   ],
   "source": [
    "counter = collections.Counter(stopped[2])  # Again, consider the fourth segment\n",
    "print(counter.most_common(10))               # Making a counter 'object' of our segment,\n",
    "                                             # this now has a 'method' calles most_common,\n",
    "                                             # offering us the object's most common elements.\n",
    "                                             # More 'methods' can be found in the documentation:\n",
    "                                             # https://docs.python.org/3/library/collections.html#collections.Counter"
   ]
  },
  {
   "cell_type": "code",
   "execution_count": 52,
   "metadata": {},
   "outputs": [
    {
     "name": "stdout",
     "output_type": "stream",
     "text": [
      "[('alea', 13), ('servitium', 8), ('schedula', 5), ('maga', 5), ('opera', 5), ('dico', 5), ('curo', 4), ('princeps', 4), ('multus', 4), ('sibus', 4)]\n"
     ]
    }
   ],
   "source": [
    "counter = collections.Counter(stopped[3])  # Again, consider the fourth segment\n",
    "print(counter.most_common(10))               # Making a counter 'object' of our segment,\n",
    "                                             # this now has a 'method' calles most_common,\n",
    "                                             # offering us the object's most common elements.\n",
    "                                             # More 'methods' can be found in the documentation:\n",
    "                                             # https://docs.python.org/3/library/collections.html#collections.Counter"
   ]
  },
  {
   "cell_type": "code",
   "execution_count": 53,
   "metadata": {},
   "outputs": [
    {
     "name": "stdout",
     "output_type": "stream",
     "text": [
      "[('dico', 13), ('tribuo', 7), ('servitium', 6), ('indos', 5), ('lex', 5), ('facio', 4), ('personalis', 4), ('indo', 4), ('soleo', 4), ('alea', 4)]\n"
     ]
    }
   ],
   "source": [
    "counter = collections.Counter(stopped[4])  # Again, consider the fourth segment\n",
    "print(counter.most_common(10))               # Making a counter 'object' of our segment,\n",
    "                                             # this now has a 'method' calles most_common,\n",
    "                                             # offering us the object's most common elements.\n",
    "                                             # More 'methods' can be found in the documentation:\n",
    "                                             # https://docs.python.org/3/library/collections.html#collections.Counter"
   ]
  },
  {
   "cell_type": "markdown",
   "metadata": {},
   "source": [
    "<div class=\"alert alertbox alert-success\">So far our initial analyses, then. There are several ways in which we can continue now. We see that there are still word (like 'damnatione', tributorum' in the first or 'statuunt' in the second segment) that are not covered by our lemmatisation process. Also, abbreviations (like 'iur' in the second segment) could be expanded either in the transcription or by adding an appropriate line in our list of lemmata. Words like 'dom' in the fifth segment could maybe be added to the list of stopwords? Anyway, more need for review of these two lists (lemmata/stopwords) is explained below and that is something that should definitely be done - after all, they were taken from the context of quite another project and a scholar should control closely  what is being suppressed and what is being replaced in the text under hand.</div>\n",
    "\n",
    "<div class=\"alert alertbox alert-success\">But we could also do more sophisticated things with the list. We could e.g. use either our lemma list or our stopwords list to filter out certain words, like all non-substantives. Or we could reduce all mentions of a certain name or literary work to a specific form (that would be easily recognizable in all the places).</div>\n",
    "\n",
    "However, we can already observe that meaningful words like \"indios/indis\" are maybe not so helpful in characterising individual passages of this work, since they occur all over the place. After all, the work is called \"De Indiarum Iure\" and deals with various questions all related to indigenous people. Also, we would like to give some weight to the fact that a passage may consist of all stopwords and perhaps one or two substantial words, whereas another might be full of substantial words and few stopwords only (think e.g. of an abstract or an opening chapter describing the rest of the work). Or, since we have text segments of varying length, we would like our figures to reflect the fact that a tenfold occurrence in a very short passage may be more significant than a tenfold occurrence in a very, very, very long passage.\n",
    "\n",
    "These phenomena are treated with more mathematical tools, so let's say that our preparatory work is done ..."
   ]
  },
  {
   "cell_type": "markdown",
   "metadata": {},
   "source": [
    "# Characterise passages: TF/IDF"
   ]
  },
  {
   "cell_type": "markdown",
   "metadata": {},
   "source": [
    "As described, we are now going to delve a wee bit deeper into mathematics in order to get more precise characterizations of our text segments. The approach we are going to use is called \"TF/IDF\" and is a simple, yet powerful method that is very popular in text mining and search engine discussions."
   ]
  },
  {
   "cell_type": "markdown",
   "metadata": {},
   "source": [
    "  1. [Build vocabulary](#BuildVocabulary)\n",
    "  2. [Calculate Terms' Text Frequencies (TF)](#CalculateTF) \n",
    "  3. [Normalise TF](#NormaliseTF)\n",
    "  4. [Inverse Document Frequencies (IDF) and TF-IDF](#CalculateTFIDF)"
   ]
  },
  {
   "cell_type": "markdown",
   "metadata": {},
   "source": [
    "## Build vocabulary <a name=\"BuildVocabulary\"/>"
   ]
  },
  {
   "cell_type": "markdown",
   "metadata": {},
   "source": [
    "Since maths works best with numbers, let's first of all build a list of all the words (in their basic form) that occur anywhere in the text, and give each one of those words an ID (say, the position of its first occurrence in the work):"
   ]
  },
  {
   "cell_type": "code",
   "execution_count": 54,
   "metadata": {
    "ExecuteTime": {
     "end_time": "2017-09-12T09:48:27.377351Z",
     "start_time": "2017-09-12T11:48:26.745263+02:00"
    }
   },
   "outputs": [
    {
     "name": "stdout",
     "output_type": "stream",
     "text": [
      "1144 distinct words in the corpus:\n",
      "['1542', '1549', '1555', '1568', '1581', '1595', '1601', '1601_die_24_november_vallisoleti', '1604', '1617', '1620', '1_tomus_controversia_liber_3_de_laici_capitus_7', '1_tomus_impresso_pagina_320', '27_capitus', '2_var_capitum_14_numerus_28', '43', '4_tomus_impressus_pagina_292', '4_tomus_pagina_301', '8_december_anno_1610', 'aboleo', 'absolvo', 'absque', 'abutor', 'accipio', 'acquisitio', 'actio', 'actum', 'addico', 'additio', 'addo', 'adduco', 'administratio', 'admodum', 'adscriptitiis', 'adversus', 'adverto', 'aedifico', 'aequum', 'aestimo', 'aetas', 'afflictus', 'affligo', 'africanos', 'ager', 'agero', 'ago', 'agricolis_et_censitis_liber_11', 'alea', 'alibi', 'aliquot', 'alium', 'alius', 'allego', 'alter', 'ambigo', 'anno', 'annua', 'annus', 'antiqua', 'antiquus', 'aperio', 'apostolicus', 'appareo', 'appello', 'applico', 'apud_dominus_laurentius_19_october_anno_1591', 'aranjuecii_26_maii_anno_1609', 'arceo', 'archidiaconus', 'ardens', 'argumentum', 'ascribo', 'asservio', 'assigno', 'atrox', 'auctoritas', 'auctus', 'audio', 'auditor', 'aufero', 'auris', 'authoritate_de_collatoribus_parraphus_ad_hoc_iubemus', 'authoritate_de_nulli_iudicium_parrapho_cuius', 'authoritate_ut_iudices_sine_quoquo_suffragio_in_principis', 'avaritia', 'baro', 'bellum', 'bonum', 'bonus', 'bulla', 'cado', 'cancellarius', 'capesso', 'capitatio', 'capitum_15', 'capitum_17_pagina_342', 'capitum_2', 'capitum_24_praet_verbum_titulo', 'capitum_bonae', 'capitum_fin_de_consuetudine']\n"
     ]
    }
   ],
   "source": [
    "# We can use a library function for this\n",
    "from sklearn.feature_extraction.text import CountVectorizer\n",
    "\n",
    "# Since the library function can do all of the above (splitting, tokenising, lemmatising),\n",
    "# and since it is providing hooks for us to feed our own tokenising, lemmatising and stopwords\n",
    "# resources or functions to it,\n",
    "# we use it and work on our rather raw \"corpus\" variable from way above again.\n",
    "\n",
    "# So first we build a tokenising and lemmatising function to work as an input filter\n",
    "# to the CountVectorizer function\n",
    "def ourLemmatiser(str_input):\n",
    "    wordforms = re.split('\\W+', str_input)\n",
    "    return [lemma[wordform].lower().strip() if wordform in lemma else wordform.lower().strip() for wordform in wordforms ]\n",
    "\n",
    "# Then we initialize the CountVectorizer function to use our stopwords and lemmatising fct.\n",
    "count_vectorizer = CountVectorizer(tokenizer=ourLemmatiser, stop_words=stopwords)\n",
    "\n",
    "# Finally, we feed our corpus to the function, building a new \"vocab\" object\n",
    "vocab = count_vectorizer.fit_transform(corpus)\n",
    "\n",
    "# Print some results\n",
    "print(str(len(count_vectorizer.get_feature_names())) + ' distinct words in the corpus:')\n",
    "print(count_vectorizer.get_feature_names()[0:100])"
   ]
  },
  {
   "cell_type": "markdown",
   "metadata": {},
   "source": [
    "You can see how our corpus of four thousand \"tokens\" actually contains only one and a half thousand different words (plus stopwords, but these are at maximum 384). And, in contrast to simpler numbers that have been filtered out by our stopwords filter, I have left years like \"1610\" in place."
   ]
  },
  {
   "cell_type": "markdown",
   "metadata": {},
   "source": [
    "## Calculate Terms' Text Frequencies (TF) <a name=\"CalculateTF\"/>"
   ]
  },
  {
   "cell_type": "markdown",
   "metadata": {},
   "source": [
    "However, our \"vocab\" object contains more than just all the unique words in our corpus. Let's get some information about it:"
   ]
  },
  {
   "cell_type": "code",
   "execution_count": 55,
   "metadata": {
    "ExecuteTime": {
     "end_time": "2017-09-12T09:48:28.691789Z",
     "start_time": "2017-09-12T11:48:28.677888+02:00"
    }
   },
   "outputs": [
    {
     "data": {
      "text/plain": [
       "<5x1144 sparse matrix of type '<class 'numpy.int64'>'\n",
       "\twith 1443 stored elements in Compressed Sparse Row format>"
      ]
     },
     "execution_count": 55,
     "metadata": {},
     "output_type": "execute_result"
    }
   ],
   "source": [
    "vocab"
   ]
  },
  {
   "cell_type": "markdown",
   "metadata": {},
   "source": [
    "It is actually a table with 20 rows (the number of our segments) and 1.672 columns (the number of unique words in the corpus). So what we do have is a table where for each segment the amount of occurrences of every \"possible\" (in the sense of used somewhere in the corpus) word is listed.\n",
    "\n",
    "*(\"Sparse\" means that the majority of fields is zero. And 2.142 fields are populated, which is more than the number of unique words in the corpus (1.672, see above) - that's obviously because some words occur in multiple segments = rows. Not much of a surprise, actually.)*\n",
    "\n",
    "Here is the whole table:"
   ]
  },
  {
   "cell_type": "code",
   "execution_count": 56,
   "metadata": {
    "ExecuteTime": {
     "end_time": "2017-09-12T09:48:29.480646Z",
     "start_time": "2017-09-12T11:48:29.396064+02:00"
    },
    "collapsed": true
   },
   "outputs": [],
   "source": [
    "# pd.DataFrame(vocab.toarray(), columns=count_vectorizer.get_feature_names())"
   ]
  },
  {
   "cell_type": "markdown",
   "metadata": {},
   "source": [
    "Each row of this table is a kind of fingerprint of a segment: We don't know the order of words in the segment - for us, it is just a \"*bag of words*\" -, but we know which words occur in the segment and how often they do. But as of now, it is a rather bad fingerprint, because how significant a certain number of occurences of a word in a segment is depends on the actual length of the segment. Ignorant as we are (per assumption) of the role and meaning of those words, still, if a word occurs twice in a short paragraph, that should *prima facie* count as more characteristic of the paragraph than if it occurs twice in a multi-volume work."
   ]
  },
  {
   "cell_type": "markdown",
   "metadata": {},
   "source": [
    "## Normalise TF <a name=\"NormaliseTF\"/>"
   ]
  },
  {
   "cell_type": "markdown",
   "metadata": {},
   "source": [
    "We can reflect this if we divide the number of occurrences of a word by the number of tokens in the segment. Obviously the number will then be quite small - but what counts is the relations between the cells and we can account for scaling and normalizing later...\n",
    "\n",
    "We're almost there and we are switching from the CountVectorizer function to another one, that does the division just mentioned and will do more later on..."
   ]
  },
  {
   "cell_type": "code",
   "execution_count": 57,
   "metadata": {
    "ExecuteTime": {
     "end_time": "2017-09-12T09:48:31.397897Z",
     "start_time": "2017-09-12T11:48:31.265380+02:00"
    },
    "scrolled": true
   },
   "outputs": [
    {
     "data": {
      "text/plain": [
       "<5x1144 sparse matrix of type '<class 'numpy.float64'>'\n",
       "\twith 1443 stored elements in Compressed Sparse Row format>"
      ]
     },
     "execution_count": 57,
     "metadata": {},
     "output_type": "execute_result"
    }
   ],
   "source": [
    "from sklearn.feature_extraction.text import TfidfVectorizer\n",
    "\n",
    "# Initialize the library's function\n",
    "tfidf_vectorizer = TfidfVectorizer(stop_words=stopwords, use_idf=False, tokenizer=ourLemmatiser, norm='l1')\n",
    "\n",
    "# Finally, we feed our corpus to the function to build a new \"tf_matrix\" object\n",
    "tf_matrix = tfidf_vectorizer.fit_transform(corpus)\n",
    "\n",
    "# Print some results\n",
    "# pd.DataFrame(tf_matrix.toarray(), columns=tfidf_vectorizer.get_feature_names())\n",
    "tf_matrix"
   ]
  },
  {
   "cell_type": "markdown",
   "metadata": {},
   "source": [
    "Now we have seen above that \"indis\" is occurring in all of the segments, because, as the title indicates, the whole work is about issues related to the Indies and to indigenous people. When we want to characterize a segment by referring to some of its words, is there a way to weigh down words like \"indis\" a little bit? Not filter them out completely, as we do with stopwords, but give them just a little less weight than words not appearing all over the place? Yes there is..."
   ]
  },
  {
   "cell_type": "markdown",
   "metadata": {},
   "source": [
    " ## Inverse Document Frequencies (IDF) and TF-IDF <a name=\"CalculateTFIDF\"/>"
   ]
  },
  {
   "cell_type": "markdown",
   "metadata": {},
   "source": [
    "There is a measure called \"text frequency / (inverse) document frequency\" that combines a *local* measure (how frequently a word appears in a segment, in comparison to the other words appearing in the same segment, viz. the table above), with a *global* measure (how frequently the word appears throughout the whole corpus). Roughly speaking, we have to add to the table above a new, global, element: the number of *documents* the term appears in divided through the number of *all documents* in the corpus - or, rather, the other way round (that's why it is the \"*inverse*\" document frequency): the number of documents in the corpus divided by the number of documents the current term occurs in. *(As with our local measure above, there is also some normalization, i.e. compensation for different lengths of documents and attenuation of high values, going on by using a logarithm on the quotient.)*\n",
    "\n",
    "When you multiply the term frequency (from above) with this inverse document frequeny, you have a formula which \"rewards\" frequent occurrences in one segment and rare occurrences over the whole corpus. (For more of the mathematical background, see [this tutorial](http://blog.christianperone.com/2011/10/machine-learning-text-feature-extraction-tf-idf-part-ii/).)"
   ]
  },
  {
   "cell_type": "markdown",
   "metadata": {},
   "source": [
    "Again, we do not have to implement all the counting, division and logarithm ourselves but can rely on SciKit-learn's TfidfVectorizer function to generate a matrix of our corpus in just a few lines of code:"
   ]
  },
  {
   "cell_type": "code",
   "execution_count": 58,
   "metadata": {
    "ExecuteTime": {
     "end_time": "2017-09-12T09:48:33.988013Z",
     "start_time": "2017-09-12T11:48:33.835734+02:00"
    }
   },
   "outputs": [
    {
     "data": {
      "text/plain": [
       "<5x1144 sparse matrix of type '<class 'numpy.float64'>'\n",
       "\twith 1443 stored elements in Compressed Sparse Row format>"
      ]
     },
     "execution_count": 58,
     "metadata": {},
     "output_type": "execute_result"
    }
   ],
   "source": [
    "# Initialize the library's function\n",
    "tfidf_vectorizer = TfidfVectorizer(stop_words=stopwords, use_idf=True, tokenizer=ourLemmatiser, norm='l2')\n",
    "\n",
    "# Finally, we feed our corpus to the function to build a new \"tfidf_matrix\" object\n",
    "tfidf_matrix = tfidf_vectorizer.fit_transform(corpus)\n",
    "\n",
    "# Print some results\n",
    "# tfidf_matrix_frame = pd.DataFrame(tfidf_matrix.toarray(), columns=tfidf_vectorizer.get_feature_names())\n",
    "\n",
    "# tfidf_matrix_frame\n",
    "tfidf_matrix"
   ]
  },
  {
   "cell_type": "markdown",
   "metadata": {},
   "source": [
    "Now let's print a more qualified \"top 10\" words for each segment:"
   ]
  },
  {
   "cell_type": "code",
   "execution_count": 59,
   "metadata": {
    "ExecuteTime": {
     "end_time": "2017-09-12T09:48:34.824830Z",
     "start_time": "2017-09-12T11:48:34.566011+02:00"
    },
    "collapsed": true
   },
   "outputs": [],
   "source": [
    "#convert your matrix to an array to loop over it\n",
    "mx_array = tfidf_matrix.toarray()\n",
    "\n",
    "# get your feature names\n",
    "fn = tfidf_vectorizer.get_feature_names()\n",
    "\n",
    "# pos = 0\n",
    "# for l in mx_array:\n",
    "#    print(' ')\n",
    "#    print(' Most significant words segment ' + str(pos) + ':')\n",
    "#    print(pd.DataFrame.rename(pd.DataFrame.from_dict([(fn[x], l[x]) for x in (l*-1).argsort()][:20]), columns={0:'lemma',1:'tf/idf value'}))\n",
    "#    pos += 1"
   ]
  },
  {
   "cell_type": "markdown",
   "metadata": {},
   "source": [
    "<div class=\"alert alertbox alert-success\">You can see that, in the fourth segment, pensum and tributum have moved up while indis has fallen from the first to the third place. But in other segments you can also see that abbreviations like \"fol\", \"gl\" or \"hom\" still are a major nuisance, and so are spanish passages. It would surely help to improve our stopwords and lemma lists.</div>\n",
    "\n",
    "<div class=\"alert alertbox alert-success\">Of course, having more text would also help: The *idf* can kick in only when there are many documents... Also, you could play around with the segmentation. Make fewer but bigger segments or smaller ones...</div>\n",
    "\n",
    "<div class=\"alert alertbox alert-success\">And you can notice that in many segments, the lemmata at around rank 5 have the exact same value. Most certainly that's because they only occur one single time in the segment. (That those values differ from segment to segment has to do with the relation of the segment to the corpus as a whole.) And when four our fourteen of those words occur only once anyway, we should really not think that there is a meaningful sorting order between them (or that there is a good reason the 8th one is in the top ten list and the thirteenth one isn't). But in those areas where there _is_ variation in the tf/idf values, that is indeed telling.</div>"
   ]
  },
  {
   "cell_type": "markdown",
   "metadata": {},
   "source": [
    "Due to the way that they have been encoded in our sample texts, we can also observe some references to other literature by the underscore (e.g. \"de_oper\", \"de_iur\", \"et_cur\" etc.), which makes you wonder if it would be worthwile marking all the references in some way so that we could either concentrate on them or filter them out altogether. But other than that, it's in fact almost meaningful. Apart from making such lists, what can we do with this?"
   ]
  },
  {
   "cell_type": "markdown",
   "metadata": {},
   "source": [
    "# Vector Space Model of the text <a name=\"#VectorSpaceModel\"/>"
   ]
  },
  {
   "cell_type": "markdown",
   "metadata": {},
   "source": [
    "First, let us recapitulate in more general terms what we have done so far, since a good part of it is extensible and applicable to many other methods: We have used a representation of each \"document\" (in our case, all those \"documents\" have been segments of one and the same text) as a series of values that indicated the document's relevance in particular \"dimensions\".\n",
    "\n",
    "For example, the various values in the \"alea dimension\" indicate how characteristic this word, \"alea\", is for the present document. (By hypothesis, this also works the other way round, as an indication of which documents are the most relevant ones in matters of \"alea\". In fact, this is how search engines work.)\n",
    "\n",
    "Many words did not occur at all in most of the documents and the series of values (matrix rows) contained many zeroes. Other words were stopwords which we would not want to affect our documents' scores - they did not yield a salient \"dimension\" and were dropped from the series of values (matrix columns). The values work independently and can be combined (when a document is relevant in one *and* in another dimension).\n",
    "\n",
    "Each document is thus characterised by a so-called \"vector\" (a series of independent, combinable values) and is mapped in a \"space\" constituted by the dimensions of those vectors (matrix columns, series of values). In our case the dimensions have been derived from the corpus's vocabulary. Hence, the representation of all the documents is called their vector space model. You can really think of it as similar to a three-dimensional space: *Document A goes quite some way in the x-direction, it goes not at all in the y-direction and it goes just a little bit in the z-direction. Document B goes quite some way, perhaps even further than A did, in both the y- and z- directions, but only a wee bit in the y-direction. Etc. etc. Only with many many more independent dimensions instead of just the three spatial dimensions we are used to.*\n",
    "\n",
    "The following sections are will discuss ways of manipulating the vector space -- using alternative or additional dimensions -- and also ways of leveraging the VSM representation of our text to make various analyses..."
   ]
  },
  {
   "cell_type": "markdown",
   "metadata": {},
   "source": [
    " [Word clouds](#WordClouds)"
   ]
  },
  {
   "cell_type": "markdown",
   "metadata": {},
   "source": [
    "## Extending the dimensions <a name=\"AddDimensions\"/>\n",
    "\n",
    "Of course, there is no reason why the dimensions should be restricted to or identical with the vocabulary (or the occurring n-grams, for that matter). In fact, in the examples above, we have dropped some of the words already by using our list of stopwords. <font color=\"green\">**We could also add other dimensions that are of interest for our current research question. We could add a dimension for the year in which the texts have been written, for their citing a certain author, or merely for their position in the encompassing work...**</font>\n",
    "\n",
    "Since in our examples, the position is represented in the \"row number\" and counting citations of a particular author require some more normalisations (e.g. with the lemmatisation dictionary above), let's add a dimension for the length of the respective segment (in characters) and another one for the number of occurrences of \"\\_\" (in our sample transcriptions, this character had been used to mark citations, although admittedly not all of them), just so you get the idea:"
   ]
  },
  {
   "cell_type": "code",
   "execution_count": 60,
   "metadata": {
    "ExecuteTime": {
     "end_time": "2017-09-12T09:48:39.742267Z",
     "start_time": "2017-09-12T11:48:39.694938+02:00"
    },
    "collapsed": true
   },
   "outputs": [],
   "source": [
    "# print(\"Original matrix of tf/idf values (rightmost columns):\")\n",
    "# tfidf_matrix_frame.iloc[ :, -5:]"
   ]
  },
  {
   "cell_type": "code",
   "execution_count": 61,
   "metadata": {
    "ExecuteTime": {
     "end_time": "2017-09-12T09:48:39.814025Z",
     "start_time": "2017-09-12T11:48:39.751031+02:00"
    },
    "collapsed": true
   },
   "outputs": [],
   "source": [
    "length = []\n",
    "for i in range(0, len(corpus)):\n",
    "    length.append(len(tokenised[i]))\n",
    "\n",
    "citnum = []\n",
    "for i in range(0, len(corpus)):\n",
    "    citnum.append(corpus[i].count('Ж'))\n",
    "\n",
    "# print(\"New matrix extended with segment length and number of occurrences of 'Ж':\")\n",
    "# new_matrix = tfidf_matrix_frame.assign(seg_length = length).assign(cit_count = citnum)\n",
    "# new_matrix.iloc[ :, -6:]"
   ]
  },
  {
   "cell_type": "markdown",
   "metadata": {},
   "source": [
    "You may notice that the segment with most occurrences of \"\\_\" (taken with a grain of salt, that's likely the segment with most citations), is not a particularly long one. If we had systematic markup of citations or author names in our transcription, we could be more certain or add even more columns/\"dimensions\" to our table.\n",
    "\n",
    "If you bear with me for a final example, here is adding the labels that you could see in our initial one \"big source file\":"
   ]
  },
  {
   "cell_type": "code",
   "execution_count": 62,
   "metadata": {
    "ExecuteTime": {
     "end_time": "2017-09-12T09:48:40.727778Z",
     "start_time": "2017-09-12T11:48:40.677687+02:00"
    },
    "collapsed": true
   },
   "outputs": [],
   "source": [
    "# input should still have a handle on our source file.\n",
    "\n",
    "label = []\n",
    "# Now, for every line, revisit the special string and extract just the lines marked by it\n",
    "for line in input:\n",
    "    if line[0:3] == '€€€':\n",
    "        label.append(line[6:].strip())\n",
    "\n",
    "# How many segments/files do we then have?\n",
    "# print(str(len(label)) + ' labels read.')\n",
    "# print(\"New matrix extended with segment length, number of occurrences of '_' and label:\")\n",
    "# yet_another_matrix = new_matrix.assign(seg_length = length).assign(label = label)\n",
    "# yet_another_matrix.iloc[ :, -6:]\n"
   ]
  },
  {
   "cell_type": "markdown",
   "metadata": {},
   "source": [
    "## Word Clouds <a name=\"WordClouds\"/>"
   ]
  },
  {
   "cell_type": "markdown",
   "metadata": {},
   "source": [
    "We can use a library that takes word frequencies like above, calculates corresponding relative sizes of words and creates nice wordcloud images for our sections (again, taking the fourth segment as an example) like this:"
   ]
  },
  {
   "cell_type": "code",
   "execution_count": 63,
   "metadata": {
    "ExecuteTime": {
     "start_time": "2017-09-12T09:48:42.357Z"
    }
   },
   "outputs": [
    {
     "data": {
      "image/png": "[encoded data removed]",
      "text/plain": [
       "<matplotlib.figure.Figure at 0x6d11f5828>"
      ]
     },
     "metadata": {},
     "output_type": "display_data"
    }
   ],
   "source": [
    "from wordcloud import WordCloud\n",
    "import matplotlib.pyplot as plt\n",
    "\n",
    "# We make tuples of (lemma, tf/idf score) for one of our segments\n",
    "# But we have to convert our tf/idf weights to pseudo-frequencies (i.e. integer numbers)\n",
    "frq = [ int(round(x * 100000, 0)) for x in mx_array[1]]\n",
    "freq = dict(zip(fn, frq))\n",
    "\n",
    "wc = WordCloud(background_color=None, mode=\"RGBA\", max_font_size=40, min_font_size=10, \\\n",
    "                       max_words=60, relative_scaling=0.8).fit_words(freq)\n",
    "\n",
    "# Now show/plot the wordcloud\n",
    "plt.figure()\n",
    "plt.imshow(wc, interpolation=\"bilinear\")\n",
    "plt.axis(\"off\")\n",
    "plt.show()"
   ]
  },
  {
   "cell_type": "markdown",
   "metadata": {},
   "source": [
    "In order to have a nicer overview over the many segments than is possible in this notebook, let's create a new html file listing some of the characteristics that we have found so far..."
   ]
  },
  {
   "cell_type": "code",
   "execution_count": 64,
   "metadata": {
    "ExecuteTime": {
     "start_time": "2017-09-12T09:48:43.347Z"
    },
    "collapsed": true
   },
   "outputs": [],
   "source": [
    "outputDir = \"SP_seminar\"\n",
    "htmlfile = open(outputDir + '/Overview.html', encoding='utf-8', mode='w')\n",
    "\n",
    "# Write the html header and the opening of a layout table\n",
    "htmlfile.write(\"\"\"<!DOCTYPE html>\n",
    "<html>\n",
    "    <head>\n",
    "        <title>Section Characteristics</title>\n",
    "        <meta charset=\"utf-8\"/>\n",
    "    </head>\n",
    "    <body>\n",
    "        <table>\n",
    "\"\"\")\n",
    "\n",
    "a = [[]]\n",
    "a.clear()\n",
    "dicts = []\n",
    "w = []\n",
    "\n",
    "# For each segment, create a wordcloud and write it along with label and\n",
    "# other information into a new row of the html table\n",
    "for i in range(0, len(mx_array)):\n",
    "    # this is like above in the single-segment example...\n",
    "    a.append([ int(round(x * 100000, 0)) for x in mx_array[i]])\n",
    "    dicts.append(dict(zip(fn, a[i])))\n",
    "    w.append(WordCloud(background_color=None, mode=\"RGBA\", \\\n",
    "                       max_font_size=40, min_font_size=10, \\\n",
    "                       max_words=60, relative_scaling=0.8).fit_words(dicts[i]))\n",
    "    # We write the wordcloud image to a file\n",
    "    w[i].to_file(outputDir + '/wc_' + str(i) + '.png')\n",
    "    # Finally we write the column row\n",
    "    htmlfile.write(\"\"\"\n",
    "            <tr>\n",
    "                <td>\n",
    "                    <head>Section {a}: <b>{b}</b></head><br/>\n",
    "                    <img src=\"./wc_{a}.png\"/><br/>\n",
    "                    <small><i>length: {c} words</i></small>\n",
    "                </td>\n",
    "            </tr>\n",
    "            <tr><td>&nbsp;</td></tr>\n",
    "\"\"\".format(a = str(i), b = label[i], c = len(tokenised[i])))\n",
    "\n",
    "# And then we write the end of the html file.\n",
    "htmlfile.write(\"\"\"\n",
    "        </table>\n",
    "    </body>\n",
    "</html>\n",
    "\"\"\")\n",
    "htmlfile.close()"
   ]
  },
  {
   "cell_type": "markdown",
   "metadata": {},
   "source": [
    "This should have created a nice html file which we can open [here](./SP_seminar/Overview.html)."
   ]
  },
  {
   "cell_type": "markdown",
   "metadata": {},
   "source": [
    "# Working with several languages"
   ]
  },
  {
   "cell_type": "markdown",
   "metadata": {},
   "source": [
    "Let us prepare a second text, this time in Spanish, and see how they compare..."
   ]
  },
  {
   "cell_type": "code",
   "execution_count": 65,
   "metadata": {
    "ExecuteTime": {
     "start_time": "2017-09-12T09:48:52.145Z"
    }
   },
   "outputs": [
    {
     "name": "stdout",
     "output_type": "stream",
     "text": [
      "5 files written.\n",
      "5 files read.\n",
      "5 labels found.\n",
      "614725 spanish wordforms known to the system.\n",
      "744 spanish stopwords known to the system.\n",
      "['', 'ϫ', '0', '1', '2', '3', '4', '5', '6', '7', '8', '9', '10', '11', '12', '13', '14', '15', '16', '17']\n",
      " \n",
      "Significant words in the spanish text:\n",
      " \n",
      " Most significant words in the 1. segment:\n",
      "['totalmente', 'capitvlo', 'español', 'tributar', 'particular', 'casa', 'llamar', 'servicio', 'cosa', 'indio']\n",
      " \n",
      " Most significant words in the 2. segment:\n",
      "['forzar', 'latir', 'юego', 'жaristoteles', 'compeler', 'sacar', 'hombre', 'servicio', 'et', 'ministerio']\n",
      " \n",
      " Most significant words in the 3. segment:\n",
      "['servicio', 'indio', 'mesmo', 'año', 'personal', 'pagar', 'de+el', 'tasar', 'provincia', 'proveer']\n",
      " \n",
      " Most significant words in the 4. segment:\n",
      "['cedula', 'de+el', 'año', 'a el', 'et', 'жmontesclaro', 'término', 'acordar', 'marcar', 'señor']\n",
      " \n",
      " Most significant words in the 5. segment:\n",
      "['dictar', 'señalar', 'et', 'apud', 'юme', 'жacosta', 'tributar', 'supra', 'prescripción', 'жcovarrubias']\n"
     ]
    }
   ],
   "source": [
    "bigspanishfile = 'SP_seminar/2cap_b2_PI.txt'\n",
    "spInput = open(bigspanishfile, encoding='utf-8').readlines()\n",
    "\n",
    "spAt    = -1\n",
    "spDest  = None\n",
    "\n",
    "for line in spInput:\n",
    "    if line[0:3] == '€€€':\n",
    "        if spDest:\n",
    "            spDest.close()\n",
    "        spAt += 1\n",
    "        spDest = open(outputBase + '.' + str(spAt) +\n",
    "                    '.spanish.txt', encoding='utf-8', mode='w')\n",
    "    else:\n",
    "        spDest.write(line.strip())\n",
    "\n",
    "spAt += 1\n",
    "spDest.close()\n",
    "print(str(spAt) + ' files written.')\n",
    "\n",
    "spSuffix = '.spanish.txt'\n",
    "spCorpus = []\n",
    "for i in range(0, spAt):\n",
    "    try:\n",
    "        with open(path + '/' + filename + str(i) + spSuffix, encoding='utf-8') as f:\n",
    "            spCorpus.append(f.read())\n",
    "            f.close()\n",
    "    except IOError as exc:\n",
    "        if exc.errno != errno.EISDIR:  # Do not fail if a directory is found, just ignore it.\n",
    "            raise                      # Propagate other kinds of IOError.\n",
    "\n",
    "print(str(len(spCorpus)) + ' files read.')\n",
    "\n",
    "# Labels\n",
    "spLabel = []\n",
    "i = 0\n",
    "for spLine in spInput:\n",
    "    if spLine[0:3] == '€€€':\n",
    "        spLabel.append(spLine[6:].strip())\n",
    "        i =+ 1\n",
    "print(str(len(spLabel)) + ' labels found.')\n",
    "\n",
    "# Tokens\n",
    "spTokenised = []\n",
    "for spSegment in spCorpus:\n",
    "    spTokenised.append(list(filter(None, (spWord.lower()\n",
    "                                        for spWord in re.split('\\W+', spSegment)))))\n",
    "\n",
    "# Lemmata\n",
    "spLemma    = {}\n",
    "spTempdict = []\n",
    "spWordfile_path = 'SP_seminar/wordforms-es.txt'\n",
    "spWordfile = open(spWordfile_path, encoding='utf-8')\n",
    "\n",
    "for spLine in spWordfile.readlines():\n",
    "    spTempdict.append(tuple(spLine.split('>')))\n",
    "\n",
    "spLemma = {k.strip(): v.strip() for k, v in spTempdict}\n",
    "spWordfile.close\n",
    "print(str(len(spLemma)) + ' spanish wordforms known to the system.')\n",
    "\n",
    "# Stopwords\n",
    "spStopwords_path = 'SP_seminar/stopwords-es.txt'\n",
    "spStopwords = open(spStopwords_path, encoding='utf-8').read().splitlines()\n",
    "print(str(len(spStopwords)) + ' spanish stopwords known to the system.')\n",
    "print(spStopwords[:20])\n",
    "print(' ')\n",
    "print('Significant words in the spanish text:')\n",
    "\n",
    "# tokenising and lemmatising function\n",
    "def spOurLemmatiser(str_input):\n",
    "    spWordforms = re.split('\\W+', str_input)\n",
    "    return [spLemma[spWordform].lower() if spWordform in spLemma else spWordform.lower() for spWordform in spWordforms ]\n",
    "\n",
    "spTfidf_vectorizer = TfidfVectorizer(stop_words=spStopwords, use_idf=True, tokenizer=spOurLemmatiser, norm='l2')\n",
    "spTfidf_matrix = spTfidf_vectorizer.fit_transform(spCorpus)\n",
    "\n",
    "spMx_array = spTfidf_matrix.toarray()\n",
    "spFn = spTfidf_vectorizer.get_feature_names()\n",
    "\n",
    "pos = 1\n",
    "for l in spMx_array:\n",
    "    print(' ')\n",
    "    print(' Most significant words in the ' + str(pos) + '. segment:')\n",
    "#    print(pd.DataFrame.rename(pd.DataFrame.from_dict([(spFn[x], l[x]) for x in (l*-1).argsort()][:10]), columns={0:'lemma',1:'tf/idf value'}))\n",
    "    print([spFn[x] for x in (l*-1).argsort()][:10])\n",
    "    pos += 1"
   ]
  },
  {
   "cell_type": "markdown",
   "metadata": {},
   "source": [
    "<div class=\"alert alertbox alert-success\">Our spanish wordfiles ([lemmata list](Solorzano/wordforms-es.txt) and [stopwords list](Solorzano/stopwords-es.txt)) are quite large and generous - they spare us some work of resolving quite a lot of abbreviations. However, since they are actually originating from a completely different project, it is very unlikely, that this goes without mistakes. Also some lemmata (like \"de+el\" in the eighth segment) are not really such. So we need to clean our wordlist and adapt it to the current text material urgently!</div>"
   ]
  },
  {
   "cell_type": "markdown",
   "metadata": {},
   "source": [
    "Now imagine how we would bring the two documents together in a vector space. We would generate dimensions for all the words of our spanish vocabulary and would end up with a common space of roughly twice as many dimensions as before - and the latin work would be only in the first half of the dimensions and the spanish work only in the second half. The respective other half would be populated with only zeroes. So in effect, we would not really have a *common* space or something on the basis of which we could compare the two works. :-("
   ]
  },
  {
   "cell_type": "markdown",
   "metadata": {},
   "source": [
    "What might be an interesting perspective, however - since in this case, the second text is a translation of the first one - is a parallel, synoptic overview of both texts. So, let's at least add the second text to our html overview with the wordclouds:"
   ]
  },
  {
   "cell_type": "code",
   "execution_count": 66,
   "metadata": {
    "ExecuteTime": {
     "start_time": "2017-09-12T09:48:55.622Z"
    },
    "collapsed": true
   },
   "outputs": [],
   "source": [
    "htmlfile2 = open(outputDir + '/Synopsis.html', encoding='utf-8', mode='w')\n",
    "\n",
    "htmlfile2.write(\"\"\"<!DOCTYPE html>\n",
    "<html>\n",
    "    <head>\n",
    "        <title>Section Characteristics, parallel view</title>\n",
    "        <meta charset=\"utf-8\"/>\n",
    "    </head>\n",
    "    <body>\n",
    "        <table>\n",
    "\"\"\")\n",
    "spA = [[]]\n",
    "spA.clear()\n",
    "spDicts = []\n",
    "spW = []\n",
    "for i in range(0, max(len(mx_array), len(spMx_array))):\n",
    "    if (i > len(mx_array) - 1):\n",
    "        htmlfile2.write(\"\"\"\n",
    "            <tr>\n",
    "                <td>\n",
    "                    <head>Section {a}: n/a</head>\n",
    "                </td>\"\"\".format(a = str(i)))\n",
    "    else:\n",
    "        htmlfile2.write(\"\"\"\n",
    "            <tr>\n",
    "                <td>\n",
    "                    <head>Section {a}: <b>{b}</b></head><br/>\n",
    "                    <img src=\"./wc_{a}.png\"/><br/>\n",
    "                    <small><i>length: {c} words</i></small>\n",
    "                </td>\"\"\".format(a = str(i), b = label[i], c = len(tokenised[i])))\n",
    "    if (i > len(spMx_array) - 1):\n",
    "        htmlfile2.write(\"\"\"\n",
    "                <td>\n",
    "                    <head>Section {a}: n/a</head>\n",
    "                </td>\n",
    "            </tr><tr><td>&nbsp;</td></tr>\"\"\".format(a = str(i)))\n",
    "    else:\n",
    "        spA.append([ int(round(x * 100000, 0)) for x in spMx_array[i]])\n",
    "        spDicts.append(dict(zip(spFn, spA[i])))\n",
    "        spW.append(WordCloud(background_color=None, mode=\"RGBA\", \\\n",
    "                           max_font_size=40, min_font_size=10, \\\n",
    "                           max_words=60, relative_scaling=0.8).fit_words(spDicts[i]))\n",
    "        spW[i].to_file(outputDir + '/wc_' + str(i) + '_sp.png')\n",
    "        htmlfile2.write(\"\"\"\n",
    "                <td>\n",
    "                    <head>Section {d}: <b>{e}</b></head><br/>\n",
    "                    <img src=\"./wc_{d}_sp.png\"/><br/>\n",
    "                    <small><i>length: {f} words</i></small>\n",
    "                </td>\n",
    "            </tr>\n",
    "            <tr><td>&nbsp;</td></tr>\"\"\".format(d = str(i), e = spLabel[i], f = len(spTokenised[i])))\n",
    "    \n",
    "htmlfile2.write(\"\"\"\n",
    "        </table>\n",
    "    </body>\n",
    "</html>\n",
    "\"\"\")\n",
    "htmlfile2.close()"
   ]
  },
  {
   "cell_type": "markdown",
   "metadata": {},
   "source": [
    "Again, the resulting file can be opened [here](SP_seminar/Synopsis.html)."
   ]
  },
  {
   "cell_type": "markdown",
   "metadata": {
    "ExecuteTime": {
     "end_time": "2017-08-30T12:30:15.482766Z",
     "start_time": "2017-08-30T14:30:15.474338+02:00"
    }
   },
   "source": [
    "## Translations?"
   ]
  },
  {
   "cell_type": "markdown",
   "metadata": {},
   "source": [
    "Maybe there is an approach to inter-lingual comparison after all. Here is the [API documentation](https://github.com/commonsense/conceptnet5/wiki/API) of [conceptnet.io](http://conceptnet.io), which we can use to lookup synonyms, related terms and translations. Like with such a URI:\n",
    "\n",
    "[http://api.conceptnet.io/related/c/la/rex?filter=/c/es](http://api.conceptnet.io/related/c/la/rex?filter=/c/es)\n",
    "\n",
    "We can get an identifier for a word and many possible translations for this word. So, we could - this remains to be tested in practice - look up our ten (or so) most frequent words in one language and collect all possible translations in the second language. Then we could compare these with what we actually find in the second work. How much overlap there is going to be and how univocal it is going to be remains to be seen, however..."
   ]
  },
  {
   "cell_type": "markdown",
   "metadata": {},
   "source": [
    "# Graph-based NLP"
   ]
  },
  {
   "cell_type": "markdown",
   "metadata": {},
   "source": [
    "  - [Unsupervised keywords extraction using graphs](https://graphaware.com/neo4j/2017/10/03/efficient-unsupervised-topic-extraction-nlp-neo4j.html)\n",
    "  - [Reverse Engineering Book Stories with Neo4j and GraphAware NLP](https://graphaware.com/neo4j/2017/07/24/reverse-engineering-book-stories-nlp.html)\n"
   ]
  },
  {
   "cell_type": "markdown",
   "metadata": {},
   "source": [
    "# Topic Modelling"
   ]
  },
  {
   "cell_type": "markdown",
   "metadata": {},
   "source": [
    "...\n"
   ]
  },
  {
   "cell_type": "markdown",
   "metadata": {},
   "source": [
    "# Manual Annotation"
   ]
  },
  {
   "cell_type": "markdown",
   "metadata": {},
   "source": [
    "...\n"
   ]
  },
  {
   "cell_type": "markdown",
   "metadata": {},
   "source": [
    "# Further information"
   ]
  },
  {
   "cell_type": "markdown",
   "metadata": {},
   "source": [
    "  - http://jonathansoma.com/lede/foundations/classes/text%20processing/tf-idf/\n",
    "  - http://blog.christianperone.com/2011/09/machine-learning-text-feature-extraction-tf-idf-part-i/\n",
    "  - http://blog.christianperone.com/2011/10/machine-learning-text-feature-extraction-tf-idf-part-ii/\n",
    "  - https://de.dariah.eu/tatom/index.html\n",
    "  - https://stanford.edu/~rjweiss/public_html/IRiSS2013/text2/notebooks/tfidf.html\n",
    "  - http://takwatanabe.me/data_science/pyspark/cs110_lab3b.html\n",
    "  - https://github.com/mccurdyc/tf-idf/blob/master/README.md\n",
    "  - https://people.duke.edu/~ccc14/sta-663/TextProcessingExtras.html\n",
    "  "
   ]
  }
 ],
 "metadata": {
  "kernelspec": {
   "display_name": "Python 3",
   "language": "python",
   "name": "python3"
  },
  "language_info": {
   "codemirror_mode": {
    "name": "ipython",
    "version": 3
   },
   "file_extension": ".py",
   "mimetype": "text/x-python",
   "name": "python",
   "nbconvert_exporter": "python",
   "pygments_lexer": "ipython3",
   "version": "3.6.2"
  },
  "toc": {
   "colors": {
    "hover_highlight": "#DAA520",
    "navigate_num": "#000000",
    "navigate_text": "#333333",
    "running_highlight": "#FF0000",
    "selected_highlight": "#FFD700",
    "sidebar_border": "#EEEEEE",
    "wrapper_background": "#FFFFFF"
   },
   "moveMenuLeft": true,
   "nav_menu": {
    "height": "245px",
    "width": "252px"
   },
   "navigate_menu": true,
   "number_sections": true,
   "sideBar": true,
   "threshold": "2",
   "toc_cell": true,
   "toc_section_display": "block",
   "toc_window_display": false,
   "widenNotebook": false
  },
  "varInspector": {
   "cols": {
    "lenName": 16,
    "lenType": 16,
    "lenVar": 40
   },
   "kernels_config": {
    "python": {
     "delete_cmd_postfix": "",
     "delete_cmd_prefix": "del ",
     "library": "var_list.py",
     "varRefreshCmd": "print(var_dic_list())"
    },
    "r": {
     "delete_cmd_postfix": ") ",
     "delete_cmd_prefix": "rm(",
     "library": "var_list.r",
     "varRefreshCmd": "cat(var_dic_list()) "
    }
   },
   "types_to_exclude": [
    "module",
    "function",
    "builtin_function_or_method",
    "instance",
    "_Feature"
   ],
   "window_display": false
  }
 },
 "nbformat": 4,
 "nbformat_minor": 2
}
